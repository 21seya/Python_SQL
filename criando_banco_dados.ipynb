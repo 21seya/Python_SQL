{
 "cells": [
  {
   "cell_type": "code",
   "execution_count": null,
   "metadata": {},
   "outputs": [],
   "source": [
    "import sqlite3"
   ]
  },
  {
   "cell_type": "markdown",
   "metadata": {},
   "source": [
    "CRIAR BANCO DE DADOS"
   ]
  },
  {
   "cell_type": "code",
   "execution_count": 2,
   "metadata": {},
   "outputs": [],
   "source": [
    "#Criar banco de dados \n",
    "conexao = sqlite3.connect('Banco_Dados')\n"
   ]
  },
  {
   "cell_type": "code",
   "execution_count": 3,
   "metadata": {},
   "outputs": [],
   "source": [
    "#Apontar para banco de dados\n",
    "Cursor = conexao.cursor()"
   ]
  },
  {
   "cell_type": "markdown",
   "metadata": {},
   "source": [
    "CREATE TABLE"
   ]
  },
  {
   "cell_type": "code",
   "execution_count": 4,
   "metadata": {},
   "outputs": [],
   "source": [
    "Cursor.execute(\n",
    "    'CREATE TABLE minha_tabela(Data text , Nome text , Idade real)'\n",
    ")\n",
    "\n",
    "#Fazer commit \n",
    "conexao.commit()"
   ]
  },
  {
   "cell_type": "markdown",
   "metadata": {},
   "source": [
    "INSERT INTO"
   ]
  },
  {
   "cell_type": "code",
   "execution_count": 5,
   "metadata": {},
   "outputs": [
    {
     "data": {
      "text/plain": [
       "<sqlite3.Cursor at 0x1d29a1ad7a0>"
      ]
     },
     "execution_count": 5,
     "metadata": {},
     "output_type": "execute_result"
    }
   ],
   "source": [
    "#Inserindo valores \n",
    "Cursor.execute(\n",
    "    'INSERT INTO minha_tabela values(\"19/10/2024\",\"Programador\",\"30\")'\n",
    ")"
   ]
  },
  {
   "cell_type": "code",
   "execution_count": 6,
   "metadata": {},
   "outputs": [
    {
     "data": {
      "text/plain": [
       "<sqlite3.Cursor at 0x1d29a1ad7a0>"
      ]
     },
     "execution_count": 6,
     "metadata": {},
     "output_type": "execute_result"
    }
   ],
   "source": [
    "#Inserindo valores \n",
    "Cursor.execute(\n",
    "    'INSERT INTO minha_tabela values(\"20/09/2024\",\"Lucio\",\"30\")'\n",
    ")"
   ]
  },
  {
   "cell_type": "code",
   "execution_count": 7,
   "metadata": {},
   "outputs": [],
   "source": [
    "#Importar Números Aleatorios \n",
    "import random \n"
   ]
  },
  {
   "cell_type": "code",
   "execution_count": 11,
   "metadata": {},
   "outputs": [],
   "source": [
    "#Loop\n",
    "for Loop in range(10):\n",
    "    Num = random.randint(10,20)\n",
    "\n",
    "    #Inserir informação na minha tabela\n",
    "    Cursor.execute(f'INSERT INTO minha_tabela Values(\"05/10/2024\",\"Lucas\",{Num})')"
   ]
  },
  {
   "cell_type": "markdown",
   "metadata": {},
   "source": [
    "SELECT TABLE"
   ]
  },
  {
   "cell_type": "code",
   "execution_count": 13,
   "metadata": {},
   "outputs": [
    {
     "name": "stdout",
     "output_type": "stream",
     "text": [
      "[('19/10/2024', 'Programador', 30.0), ('20/09/2024', 'Lucio', 30.0), ('05/10/2024', 'Lucas', 13.0), ('05/10/2024', 'Lucas', 20.0), ('05/10/2024', 'Lucas', 15.0), ('05/10/2024', 'Lucas', 15.0), ('05/10/2024', 'Lucas', 11.0), ('05/10/2024', 'Lucas', 16.0), ('05/10/2024', 'Lucas', 18.0), ('05/10/2024', 'Lucas', 17.0), ('05/10/2024', 'Lucas', 18.0), ('05/10/2024', 'Lucas', 11.0)]\n"
     ]
    }
   ],
   "source": [
    "#Query pra consultar todas as colunas\n",
    "Consulta = Cursor.execute(' SELECT * FROM minha_tabela').fetchall()\n",
    "\n",
    "print(Consulta)"
   ]
  },
  {
   "cell_type": "code",
   "execution_count": 15,
   "metadata": {},
   "outputs": [
    {
     "name": "stdout",
     "output_type": "stream",
     "text": [
      "('Programador', 30.0)\n",
      "('Lucio', 30.0)\n",
      "('Lucas', 13.0)\n",
      "('Lucas', 20.0)\n",
      "('Lucas', 15.0)\n",
      "('Lucas', 15.0)\n",
      "('Lucas', 11.0)\n",
      "('Lucas', 16.0)\n",
      "('Lucas', 18.0)\n",
      "('Lucas', 17.0)\n",
      "('Lucas', 18.0)\n",
      "('Lucas', 11.0)\n"
     ]
    }
   ],
   "source": [
    "#Query pra consultar todas as colunas outra forma\n",
    "Consulta = Cursor.execute(' SELECT Nome,Idade FROM minha_tabela').fetchall()\n",
    "\n",
    "#Loop \n",
    "for Linha in Consulta:\n",
    "    print(Linha)"
   ]
  }
 ],
 "metadata": {
  "kernelspec": {
   "display_name": "Python 3",
   "language": "python",
   "name": "python3"
  },
  "language_info": {
   "codemirror_mode": {
    "name": "ipython",
    "version": 3
   },
   "file_extension": ".py",
   "mimetype": "text/x-python",
   "name": "python",
   "nbconvert_exporter": "python",
   "pygments_lexer": "ipython3",
   "version": "3.9.2"
  }
 },
 "nbformat": 4,
 "nbformat_minor": 2
}
