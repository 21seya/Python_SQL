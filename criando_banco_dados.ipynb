{
 "cells": [
  {
   "cell_type": "code",
   "execution_count": 1,
   "metadata": {},
   "outputs": [],
   "source": [
    "import sqlite3"
   ]
  },
  {
   "cell_type": "markdown",
   "metadata": {},
   "source": [
    "CRIAR BANCO DE DADOS"
   ]
  },
  {
   "cell_type": "code",
   "execution_count": 2,
   "metadata": {},
   "outputs": [],
   "source": [
    "#Criar banco de dados \n",
    "conexao = sqlite3.connect('Banco_Dados')\n"
   ]
  },
  {
   "cell_type": "code",
   "execution_count": 3,
   "metadata": {},
   "outputs": [],
   "source": [
    "#Apontar para banco de dados\n",
    "Cursor = conexao.cursor()"
   ]
  },
  {
   "cell_type": "markdown",
   "metadata": {},
   "source": [
    "CREATE TABLE"
   ]
  },
  {
   "cell_type": "code",
   "execution_count": 4,
   "metadata": {},
   "outputs": [
    {
     "ename": "OperationalError",
     "evalue": "table minha_tabela already exists",
     "output_type": "error",
     "traceback": [
      "\u001b[1;31m---------------------------------------------------------------------------\u001b[0m",
      "\u001b[1;31mOperationalError\u001b[0m                          Traceback (most recent call last)",
      "Cell \u001b[1;32mIn[4], line 1\u001b[0m\n\u001b[1;32m----> 1\u001b[0m \u001b[43mCursor\u001b[49m\u001b[38;5;241;43m.\u001b[39;49m\u001b[43mexecute\u001b[49m\u001b[43m(\u001b[49m\n\u001b[0;32m      2\u001b[0m \u001b[43m    \u001b[49m\u001b[38;5;124;43m'\u001b[39;49m\u001b[38;5;124;43mCREATE TABLE minha_tabela(Data text , Nome text , Idade real)\u001b[39;49m\u001b[38;5;124;43m'\u001b[39;49m\n\u001b[0;32m      3\u001b[0m \u001b[43m)\u001b[49m\n\u001b[0;32m      5\u001b[0m \u001b[38;5;66;03m#Fazer commit \u001b[39;00m\n\u001b[0;32m      6\u001b[0m conexao\u001b[38;5;241m.\u001b[39mcommit()\n",
      "\u001b[1;31mOperationalError\u001b[0m: table minha_tabela already exists"
     ]
    }
   ],
   "source": [
    "Cursor.execute(\n",
    "    'CREATE TABLE minha_tabela(Data text , Nome text , Idade real)'\n",
    ")\n",
    "\n",
    "#Fazer commit \n",
    "conexao.commit()"
   ]
  },
  {
   "cell_type": "markdown",
   "metadata": {},
   "source": [
    "INSERT INTO"
   ]
  },
  {
   "cell_type": "code",
   "execution_count": 8,
   "metadata": {},
   "outputs": [
    {
     "data": {
      "text/plain": [
       "<sqlite3.Cursor at 0x258ca6ca730>"
      ]
     },
     "execution_count": 8,
     "metadata": {},
     "output_type": "execute_result"
    }
   ],
   "source": [
    "#Inserindo valores \n",
    "Cursor.execute(\n",
    "    'INSERT INTO minha_tabela values(\"19/10/2024\",\"Programador\",\"30\")'\n",
    ")"
   ]
  },
  {
   "cell_type": "code",
   "execution_count": 9,
   "metadata": {},
   "outputs": [
    {
     "data": {
      "text/plain": [
       "<sqlite3.Cursor at 0x258ca6ca730>"
      ]
     },
     "execution_count": 9,
     "metadata": {},
     "output_type": "execute_result"
    }
   ],
   "source": [
    "#Inserindo valores \n",
    "Cursor.execute(\n",
    "    'INSERT INTO minha_tabela values(\"20/09/2024\",\"Lucio\",\"30\")'\n",
    ")"
   ]
  },
  {
   "cell_type": "code",
   "execution_count": 10,
   "metadata": {},
   "outputs": [],
   "source": [
    "#Importar Números Aleatorios \n",
    "import random \n"
   ]
  },
  {
   "cell_type": "code",
   "execution_count": 11,
   "metadata": {},
   "outputs": [],
   "source": [
    "#Loop\n",
    "for Loop in range(10):\n",
    "    Num = random.randint(10,20)\n",
    "\n",
    "    #Inserir informação na minha tabela\n",
    "    Cursor.execute(f'INSERT INTO minha_tabela Values(\"05/10/2024\",\"Lucas\",{Num})')"
   ]
  },
  {
   "cell_type": "markdown",
   "metadata": {},
   "source": [
    "SELECT TABLE"
   ]
  },
  {
   "cell_type": "code",
   "execution_count": 12,
   "metadata": {},
   "outputs": [
    {
     "name": "stdout",
     "output_type": "stream",
     "text": [
      "[('19/10/2024', 'Programador', 30.0), ('20/09/2024', 'Lucio', 30.0), ('05/10/2024', 'Lucas', 12.0), ('05/10/2024', 'Lucas', 18.0), ('05/10/2024', 'Lucas', 14.0), ('05/10/2024', 'Lucas', 13.0), ('05/10/2024', 'Lucas', 13.0), ('05/10/2024', 'Lucas', 15.0), ('05/10/2024', 'Lucas', 20.0), ('05/10/2024', 'Lucas', 17.0), ('05/10/2024', 'Lucas', 20.0), ('05/10/2024', 'Lucas', 15.0)]\n"
     ]
    }
   ],
   "source": [
    "#Query pra consultar todas as colunas\n",
    "Consulta = Cursor.execute(' SELECT * FROM minha_tabela').fetchall()\n",
    "\n",
    "print(Consulta)"
   ]
  },
  {
   "cell_type": "code",
   "execution_count": 14,
   "metadata": {},
   "outputs": [
    {
     "name": "stdout",
     "output_type": "stream",
     "text": [
      "('Programador', 30.0)\n",
      "('Lucio', 30.0)\n",
      "('Lucas', 12.0)\n",
      "('Lucas', 18.0)\n",
      "('Lucas', 14.0)\n",
      "('Lucas', 13.0)\n",
      "('Lucas', 13.0)\n",
      "('Lucas', 15.0)\n",
      "('Lucas', 20.0)\n",
      "('Lucas', 17.0)\n",
      "('Lucas', 20.0)\n",
      "('Lucas', 15.0)\n"
     ]
    }
   ],
   "source": [
    "#Query pra consultar todas as colunas outra forma\n",
    "Consulta = Cursor.execute(' SELECT Nome,Idade FROM minha_tabela').fetchall()\n",
    "\n",
    "#Loop \n",
    "for Linha in Consulta:\n",
    "    print(Linha)"
   ]
  },
  {
   "cell_type": "markdown",
   "metadata": {},
   "source": [
    "WHERE"
   ]
  },
  {
   "cell_type": "code",
   "execution_count": 15,
   "metadata": {},
   "outputs": [
    {
     "name": "stdout",
     "output_type": "stream",
     "text": [
      "[('20/09/2024', 'Lucio', 30.0)]\n"
     ]
    }
   ],
   "source": [
    "#Query usando igual\n",
    "Consulta = Cursor.execute(\n",
    "    '''\n",
    "        SELECT * FROM minha_tabela\n",
    "        WHERE Nome = 'Lucio'\n",
    "    '''\n",
    ").fetchall()\n",
    "\n",
    "print(Consulta)"
   ]
  }
 ],
 "metadata": {
  "kernelspec": {
   "display_name": "Python 3",
   "language": "python",
   "name": "python3"
  },
  "language_info": {
   "codemirror_mode": {
    "name": "ipython",
    "version": 3
   },
   "file_extension": ".py",
   "mimetype": "text/x-python",
   "name": "python",
   "nbconvert_exporter": "python",
   "pygments_lexer": "ipython3",
   "version": "3.9.2"
  }
 },
 "nbformat": 4,
 "nbformat_minor": 2
}
