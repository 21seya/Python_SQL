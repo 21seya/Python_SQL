{
 "cells": [
  {
   "cell_type": "code",
   "execution_count": 5,
   "metadata": {},
   "outputs": [],
   "source": [
    "import sqlite3"
   ]
  },
  {
   "cell_type": "markdown",
   "metadata": {},
   "source": [
    "CRIAR BANCO DE DADOS"
   ]
  },
  {
   "cell_type": "code",
   "execution_count": 6,
   "metadata": {},
   "outputs": [],
   "source": [
    "#Criar banco de dados \n",
    "conexao = sqlite3.connect('Banco_Dados')\n"
   ]
  },
  {
   "cell_type": "code",
   "execution_count": 7,
   "metadata": {},
   "outputs": [],
   "source": [
    "#Apontar para banco de dados\n",
    "Cursor = conexao.cursor()"
   ]
  },
  {
   "cell_type": "markdown",
   "metadata": {},
   "source": [
    "CREATE TABLE"
   ]
  },
  {
   "cell_type": "code",
   "execution_count": 16,
   "metadata": {},
   "outputs": [
    {
     "ename": "OperationalError",
     "evalue": "table minha_tabela already exists",
     "output_type": "error",
     "traceback": [
      "\u001b[1;31m---------------------------------------------------------------------------\u001b[0m",
      "\u001b[1;31mOperationalError\u001b[0m                          Traceback (most recent call last)",
      "Cell \u001b[1;32mIn[16], line 1\u001b[0m\n\u001b[1;32m----> 1\u001b[0m \u001b[43mCursor\u001b[49m\u001b[38;5;241;43m.\u001b[39;49m\u001b[43mexecute\u001b[49m\u001b[43m(\u001b[49m\n\u001b[0;32m      2\u001b[0m \u001b[43m    \u001b[49m\u001b[38;5;124;43m'\u001b[39;49m\u001b[38;5;124;43mCREATE TABLE minha_tabela(Data text , Nome text , Idade real)\u001b[39;49m\u001b[38;5;124;43m'\u001b[39;49m\n\u001b[0;32m      3\u001b[0m \u001b[43m)\u001b[49m\n\u001b[0;32m      5\u001b[0m \u001b[38;5;66;03m#Fazer commit \u001b[39;00m\n\u001b[0;32m      6\u001b[0m conexao\u001b[38;5;241m.\u001b[39mcommit()\n",
      "\u001b[1;31mOperationalError\u001b[0m: table minha_tabela already exists"
     ]
    }
   ],
   "source": [
    "Cursor.execute(\n",
    "    'CREATE TABLE minha_tabela(Data text , Nome text , Idade real)'\n",
    ")\n",
    "\n",
    "#Fazer commit \n",
    "conexao.commit()"
   ]
  },
  {
   "cell_type": "markdown",
   "metadata": {},
   "source": [
    "INSERT INTO"
   ]
  },
  {
   "cell_type": "code",
   "execution_count": 9,
   "metadata": {},
   "outputs": [
    {
     "data": {
      "text/plain": [
       "<sqlite3.Cursor at 0x253b0734880>"
      ]
     },
     "execution_count": 9,
     "metadata": {},
     "output_type": "execute_result"
    }
   ],
   "source": [
    "#Inserindo valores \n",
    "Cursor.execute(\n",
    "    'INSERT INTO minha_tabela values(\"19/10/2024\",\"Programador\",\"30\")'\n",
    ")"
   ]
  },
  {
   "cell_type": "code",
   "execution_count": 10,
   "metadata": {},
   "outputs": [
    {
     "data": {
      "text/plain": [
       "<sqlite3.Cursor at 0x253b0734880>"
      ]
     },
     "execution_count": 10,
     "metadata": {},
     "output_type": "execute_result"
    }
   ],
   "source": [
    "#Inserindo valores \n",
    "Cursor.execute(\n",
    "    'INSERT INTO minha_tabela values(\"20/09/2024\",\"Lucio\",\"30\")'\n",
    ")"
   ]
  },
  {
   "cell_type": "code",
   "execution_count": 12,
   "metadata": {},
   "outputs": [],
   "source": [
    "#Importar Números Aleatorios \n",
    "import random \n"
   ]
  },
  {
   "cell_type": "code",
   "execution_count": 13,
   "metadata": {},
   "outputs": [],
   "source": [
    "#Loop\n",
    "for Loop in range(10):\n",
    "    Num = random.randint(10,20)\n",
    "\n",
    "    #Inserir informação na minha tabela\n",
    "    Cursor.execute(f'INSERT INTO minha_tabela Values(\"05/10/2024\",\"Lucas\",{Num})')"
   ]
  },
  {
   "cell_type": "markdown",
   "metadata": {},
   "source": [
    "SELECT TABLE"
   ]
  },
  {
   "cell_type": "code",
   "execution_count": 14,
   "metadata": {},
   "outputs": [
    {
     "name": "stdout",
     "output_type": "stream",
     "text": [
      "[('19/10/2024', 'Programador', 30.0), ('20/09/2024', 'Lucio', 30.0), ('05/10/2024', 'Lucas', 15.0), ('05/10/2024', 'Lucas', 10.0), ('05/10/2024', 'Lucas', 14.0), ('05/10/2024', 'Lucas', 10.0), ('05/10/2024', 'Lucas', 12.0), ('05/10/2024', 'Lucas', 15.0), ('05/10/2024', 'Lucas', 11.0), ('05/10/2024', 'Lucas', 11.0), ('05/10/2024', 'Lucas', 10.0), ('05/10/2024', 'Lucas', 19.0)]\n"
     ]
    }
   ],
   "source": [
    "#Query pra consultar todas as colunas\n",
    "Consulta = Cursor.execute(' SELECT * FROM minha_tabela').fetchall()\n",
    "\n",
    "print(Consulta)"
   ]
  },
  {
   "cell_type": "code",
   "execution_count": 15,
   "metadata": {},
   "outputs": [
    {
     "name": "stdout",
     "output_type": "stream",
     "text": [
      "('Programador', 30.0)\n",
      "('Lucio', 30.0)\n",
      "('Lucas', 15.0)\n",
      "('Lucas', 10.0)\n",
      "('Lucas', 14.0)\n",
      "('Lucas', 10.0)\n",
      "('Lucas', 12.0)\n",
      "('Lucas', 15.0)\n",
      "('Lucas', 11.0)\n",
      "('Lucas', 11.0)\n",
      "('Lucas', 10.0)\n",
      "('Lucas', 19.0)\n"
     ]
    }
   ],
   "source": [
    "#Query pra consultar todas as colunas outra forma\n",
    "Consulta = Cursor.execute(' SELECT Nome,Idade FROM minha_tabela').fetchall()\n",
    "\n",
    "#Loop \n",
    "for Linha in Consulta:\n",
    "    print(Linha)"
   ]
  },
  {
   "cell_type": "markdown",
   "metadata": {},
   "source": [
    "WHERE"
   ]
  },
  {
   "cell_type": "code",
   "execution_count": 17,
   "metadata": {},
   "outputs": [
    {
     "name": "stdout",
     "output_type": "stream",
     "text": [
      "[('20/09/2024', 'Lucio', 30.0)]\n"
     ]
    }
   ],
   "source": [
    "#Query usando igual\n",
    "Consulta = Cursor.execute(\n",
    "    '''\n",
    "        SELECT * FROM minha_tabela\n",
    "        WHERE Nome = 'Lucio'\n",
    "    '''\n",
    ").fetchall()\n",
    "\n",
    "print(Consulta)"
   ]
  },
  {
   "cell_type": "code",
   "execution_count": 18,
   "metadata": {},
   "outputs": [
    {
     "name": "stdout",
     "output_type": "stream",
     "text": [
      "[('19/10/2024', 'Programador', 30.0), ('20/09/2024', 'Lucio', 30.0), ('05/10/2024', 'Lucas', 19.0)]\n"
     ]
    }
   ],
   "source": [
    "#Query usando igual\n",
    "Consulta = Cursor.execute(\n",
    "    '''\n",
    "        SELECT * FROM minha_tabela\n",
    "        WHERE Idade >= '18'\n",
    "    '''\n",
    ").fetchall()\n",
    "\n",
    "print(Consulta)"
   ]
  },
  {
   "cell_type": "markdown",
   "metadata": {},
   "source": [
    "BETWEEN"
   ]
  },
  {
   "cell_type": "code",
   "execution_count": 19,
   "metadata": {},
   "outputs": [
    {
     "name": "stdout",
     "output_type": "stream",
     "text": [
      "('19/10/2024', 'Programador', 30.0)\n",
      "('20/09/2024', 'Lucio', 30.0)\n"
     ]
    }
   ],
   "source": [
    "#Query usando BETWEEN\n",
    "Consulta = Cursor.execute(\n",
    "    '''\n",
    "        SELECT * FROM minha_tabela\n",
    "        WHERE Idade Between 20 and  30\n",
    "    '''\n",
    ").fetchall()\n",
    "\n",
    "for Linha in Consulta:\n",
    "    print(Linha)"
   ]
  },
  {
   "cell_type": "markdown",
   "metadata": {},
   "source": [
    "LIKE"
   ]
  },
  {
   "cell_type": "code",
   "execution_count": 20,
   "metadata": {},
   "outputs": [
    {
     "name": "stdout",
     "output_type": "stream",
     "text": [
      "('20/09/2024', 'Lucio', 30.0)\n",
      "('05/10/2024', 'Lucas', 15.0)\n",
      "('05/10/2024', 'Lucas', 10.0)\n",
      "('05/10/2024', 'Lucas', 14.0)\n",
      "('05/10/2024', 'Lucas', 10.0)\n",
      "('05/10/2024', 'Lucas', 12.0)\n",
      "('05/10/2024', 'Lucas', 15.0)\n",
      "('05/10/2024', 'Lucas', 11.0)\n",
      "('05/10/2024', 'Lucas', 11.0)\n",
      "('05/10/2024', 'Lucas', 10.0)\n",
      "('05/10/2024', 'Lucas', 19.0)\n"
     ]
    }
   ],
   "source": [
    "#Query usando BETWEEN\n",
    "Consulta = Cursor.execute(\n",
    "    '''\n",
    "        SELECT * FROM minha_tabela\n",
    "        WHERE nome LIKE'L%'\n",
    "    '''\n",
    ").fetchall()\n",
    "\n",
    "for Linha in Consulta:\n",
    "    print(Linha)"
   ]
  },
  {
   "cell_type": "markdown",
   "metadata": {},
   "source": [
    "IN"
   ]
  },
  {
   "cell_type": "code",
   "execution_count": 21,
   "metadata": {},
   "outputs": [
    {
     "name": "stdout",
     "output_type": "stream",
     "text": [
      "('20/09/2024', 'Lucio', 30.0)\n",
      "('05/10/2024', 'Lucas', 15.0)\n",
      "('05/10/2024', 'Lucas', 10.0)\n",
      "('05/10/2024', 'Lucas', 14.0)\n",
      "('05/10/2024', 'Lucas', 10.0)\n",
      "('05/10/2024', 'Lucas', 12.0)\n",
      "('05/10/2024', 'Lucas', 15.0)\n",
      "('05/10/2024', 'Lucas', 11.0)\n",
      "('05/10/2024', 'Lucas', 11.0)\n",
      "('05/10/2024', 'Lucas', 10.0)\n",
      "('05/10/2024', 'Lucas', 19.0)\n"
     ]
    }
   ],
   "source": [
    "#Query usando IN\n",
    "Consulta = Cursor.execute(\n",
    "    '''\n",
    "        SELECT * FROM minha_tabela\n",
    "        WHERE nome IN('Lucas','Lucio')\n",
    "    '''\n",
    ").fetchall()\n",
    "\n",
    "for Linha in Consulta:\n",
    "    print(Linha)"
   ]
  },
  {
   "cell_type": "code",
   "execution_count": 22,
   "metadata": {},
   "outputs": [
    {
     "name": "stdout",
     "output_type": "stream",
     "text": [
      "('05/10/2024', 'Lucas', 11.0)\n",
      "('05/10/2024', 'Lucas', 11.0)\n"
     ]
    }
   ],
   "source": [
    "#Query usando IN\n",
    "Consulta = Cursor.execute(\n",
    "    '''\n",
    "        SELECT * FROM minha_tabela\n",
    "        WHERE idade IN(20,17,11)\n",
    "    '''\n",
    ").fetchall()\n",
    "\n",
    "for Linha in Consulta:\n",
    "    print(Linha)"
   ]
  },
  {
   "cell_type": "code",
   "execution_count": 23,
   "metadata": {},
   "outputs": [],
   "source": [
    "#Query usando AND\n",
    "Consulta = Cursor.execute(\n",
    "    '''\n",
    "        SELECT * FROM minha_tabela\n",
    "        WHERE idade = 20\n",
    "        AND nome = 'Lucas'\n",
    "    '''\n",
    ").fetchall()\n",
    "\n",
    "for Linha in Consulta:\n",
    "    print(Linha)"
   ]
  },
  {
   "cell_type": "code",
   "execution_count": 24,
   "metadata": {},
   "outputs": [],
   "source": [
    "#Query usando AND\n",
    "Consulta = Cursor.execute(\n",
    "    '''\n",
    "        SELECT * FROM minha_tabela\n",
    "        WHERE idade = 20\n",
    "        AND NOT nome = 'Lucio'\n",
    "    '''\n",
    ").fetchall()\n",
    "\n",
    "for Linha in Consulta:\n",
    "    print(Linha)"
   ]
  },
  {
   "cell_type": "code",
   "execution_count": 25,
   "metadata": {},
   "outputs": [
    {
     "name": "stdout",
     "output_type": "stream",
     "text": [
      "('05/10/2024', 'Lucas', 15.0)\n",
      "('05/10/2024', 'Lucas', 10.0)\n",
      "('05/10/2024', 'Lucas', 14.0)\n",
      "('05/10/2024', 'Lucas', 10.0)\n",
      "('05/10/2024', 'Lucas', 12.0)\n",
      "('05/10/2024', 'Lucas', 15.0)\n",
      "('05/10/2024', 'Lucas', 11.0)\n",
      "('05/10/2024', 'Lucas', 11.0)\n",
      "('05/10/2024', 'Lucas', 10.0)\n",
      "('05/10/2024', 'Lucas', 19.0)\n"
     ]
    }
   ],
   "source": [
    "#Query usando AND\n",
    "Consulta = Cursor.execute(\n",
    "    '''\n",
    "        SELECT * FROM minha_tabela\n",
    "        WHERE idade = 20\n",
    "        OR nome = 'Lucas'\n",
    "    '''\n",
    ").fetchall()\n",
    "\n",
    "for Linha in Consulta:\n",
    "    print(Linha)"
   ]
  },
  {
   "cell_type": "markdown",
   "metadata": {},
   "source": [
    "ORDER BY"
   ]
  },
  {
   "cell_type": "code",
   "execution_count": 26,
   "metadata": {},
   "outputs": [
    {
     "name": "stdout",
     "output_type": "stream",
     "text": [
      "('05/10/2024', 'Lucas', 10.0)\n",
      "('05/10/2024', 'Lucas', 10.0)\n",
      "('05/10/2024', 'Lucas', 10.0)\n",
      "('05/10/2024', 'Lucas', 11.0)\n",
      "('05/10/2024', 'Lucas', 11.0)\n",
      "('05/10/2024', 'Lucas', 12.0)\n",
      "('05/10/2024', 'Lucas', 14.0)\n",
      "('05/10/2024', 'Lucas', 15.0)\n",
      "('05/10/2024', 'Lucas', 15.0)\n",
      "('05/10/2024', 'Lucas', 19.0)\n",
      "('19/10/2024', 'Programador', 30.0)\n",
      "('20/09/2024', 'Lucio', 30.0)\n"
     ]
    }
   ],
   "source": [
    "#Query usando ORDER BY\n",
    "Consulta = Cursor.execute(\n",
    "    '''\n",
    "        SELECT * FROM minha_tabela\n",
    "        ORDER BY Idade\n",
    "    '''\n",
    ").fetchall()\n",
    "\n",
    "for Linha in Consulta:\n",
    "    print(Linha)"
   ]
  },
  {
   "cell_type": "code",
   "execution_count": 27,
   "metadata": {},
   "outputs": [
    {
     "name": "stdout",
     "output_type": "stream",
     "text": [
      "('05/10/2024', 'Lucas', 15.0)\n",
      "('05/10/2024', 'Lucas', 10.0)\n",
      "('05/10/2024', 'Lucas', 14.0)\n",
      "('05/10/2024', 'Lucas', 10.0)\n",
      "('05/10/2024', 'Lucas', 12.0)\n",
      "('05/10/2024', 'Lucas', 15.0)\n",
      "('05/10/2024', 'Lucas', 11.0)\n",
      "('05/10/2024', 'Lucas', 11.0)\n",
      "('05/10/2024', 'Lucas', 10.0)\n",
      "('05/10/2024', 'Lucas', 19.0)\n",
      "('20/09/2024', 'Lucio', 30.0)\n",
      "('19/10/2024', 'Programador', 30.0)\n"
     ]
    }
   ],
   "source": [
    "#Query usando AND\n",
    "Consulta = Cursor.execute(\n",
    "    '''\n",
    "        SELECT * FROM minha_tabela\n",
    "        ORDER BY Nome\n",
    "    '''\n",
    ").fetchall()\n",
    "\n",
    "for Linha in Consulta:\n",
    "    print(Linha)"
   ]
  }
 ],
 "metadata": {
  "kernelspec": {
   "display_name": "Python 3",
   "language": "python",
   "name": "python3"
  },
  "language_info": {
   "codemirror_mode": {
    "name": "ipython",
    "version": 3
   },
   "file_extension": ".py",
   "mimetype": "text/x-python",
   "name": "python",
   "nbconvert_exporter": "python",
   "pygments_lexer": "ipython3",
   "version": "3.9.2"
  }
 },
 "nbformat": 4,
 "nbformat_minor": 2
}
